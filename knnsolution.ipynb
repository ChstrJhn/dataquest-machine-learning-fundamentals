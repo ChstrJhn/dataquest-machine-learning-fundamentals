{
 "cells": [
  {
   "cell_type": "markdown",
   "metadata": {
    "collapsed": true
   },
   "source": [
    "# Machine Learning Fundamentals: Predicting Car Prices"
   ]
  },
  {
   "cell_type": "code",
   "execution_count": 115,
   "metadata": {
    "collapsed": false
   },
   "outputs": [
    {
     "name": "stdout",
     "output_type": "stream",
     "text": [
      "Index(['3', '?', 'alfa-romero', 'gas', 'std', 'two', 'convertible', 'rwd',\n",
      "       'front', '88.60', '168.80', '64.10', '48.80', '2548', 'dohc', 'four',\n",
      "       '130', 'mpfi', '3.47', '2.68', '9.00', '111', '5000', '21', '27',\n",
      "       '13495'],\n",
      "      dtype='object')\n"
     ]
    }
   ],
   "source": [
    "import pandas as pd\n",
    "import numpy as np\n",
    "cars = pd.read_csv(\"imports-85.data\")\n",
    "print(cars.columns)"
   ]
  },
  {
   "cell_type": "markdown",
   "metadata": {},
   "source": [
    "Looks like our data do not contain headers names, so we have to manually add them."
   ]
  },
  {
   "cell_type": "code",
   "execution_count": 116,
   "metadata": {
    "collapsed": false
   },
   "outputs": [
    {
     "name": "stdout",
     "output_type": "stream",
     "text": [
      "   symboling normalized-losses         make fuel-type aspiration num-of-doors  \\\n",
      "0          3                 ?  alfa-romero       gas        std          two   \n",
      "1          3                 ?  alfa-romero       gas        std          two   \n",
      "\n",
      "    body-style drive-wheels engine-location  wheel-base  ...    engine-size  \\\n",
      "0  convertible          rwd           front        88.6  ...            130   \n",
      "1  convertible          rwd           front        88.6  ...            130   \n",
      "\n",
      "   fuel-system  bore  stroke compression-rate horsepower  peak-rpm city-mpg  \\\n",
      "0         mpfi  3.47    2.68              9.0        111      5000       21   \n",
      "1         mpfi  3.47    2.68              9.0        111      5000       21   \n",
      "\n",
      "  highway-mpg  price  \n",
      "0          27  13495  \n",
      "1          27  16500  \n",
      "\n",
      "[2 rows x 26 columns]\n"
     ]
    }
   ],
   "source": [
    "col_names = ['symboling', 'normalized-losses', 'make', 'fuel-type', 'aspiration', 'num-of-doors', 'body-style', \n",
    "        'drive-wheels', 'engine-location', 'wheel-base', 'length', 'width', 'height', 'curb-weight', 'engine-type', \n",
    "        'num-of-cylinders', 'engine-size', 'fuel-system', 'bore', 'stroke', 'compression-rate', 'horsepower', 'peak-rpm', 'city-mpg', 'highway-mpg', 'price']\n",
    "cars = pd.read_csv(\"imports-85.data\",names=col_names)\n",
    "print(cars.head(2))"
   ]
  },
  {
   "cell_type": "markdown",
   "metadata": {},
   "source": [
    "## Cleaning Data"
   ]
  },
  {
   "cell_type": "code",
   "execution_count": 117,
   "metadata": {
    "collapsed": false
   },
   "outputs": [
    {
     "name": "stdout",
     "output_type": "stream",
     "text": [
      "0      NaN\n",
      "1      NaN\n",
      "2      NaN\n",
      "3      164\n",
      "4      164\n",
      "5      NaN\n",
      "6      158\n",
      "7      NaN\n",
      "8      158\n",
      "9      NaN\n",
      "10     192\n",
      "11     192\n",
      "12     188\n",
      "13     188\n",
      "14     NaN\n",
      "15     NaN\n",
      "16     NaN\n",
      "17     NaN\n",
      "18     121\n",
      "19      98\n",
      "20      81\n",
      "21     118\n",
      "22     118\n",
      "23     118\n",
      "24     148\n",
      "25     148\n",
      "26     148\n",
      "27     148\n",
      "28     110\n",
      "29     145\n",
      "      ... \n",
      "175     65\n",
      "176     65\n",
      "177     65\n",
      "178    197\n",
      "179    197\n",
      "180     90\n",
      "181    NaN\n",
      "182    122\n",
      "183    122\n",
      "184     94\n",
      "185     94\n",
      "186     94\n",
      "187     94\n",
      "188     94\n",
      "189    NaN\n",
      "190    256\n",
      "191    NaN\n",
      "192    NaN\n",
      "193    NaN\n",
      "194    103\n",
      "195     74\n",
      "196    103\n",
      "197     74\n",
      "198    103\n",
      "199     74\n",
      "200     95\n",
      "201     95\n",
      "202     95\n",
      "203     95\n",
      "204     95\n",
      "Name: normalized-losses, dtype: object\n"
     ]
    }
   ],
   "source": [
    "cars = cars.replace(to_replace=\"?\",value=np.nan)\n",
    "print(cars[\"normalized-losses\"])"
   ]
  },
  {
   "cell_type": "markdown",
   "metadata": {},
   "source": [
    "Because we will be calculating Euclidean distance for K-nearest neighbor (KNN), we will have to use only continuous variables, omitting any categorical variables."
   ]
  },
  {
   "cell_type": "code",
   "execution_count": 118,
   "metadata": {
    "collapsed": false
   },
   "outputs": [
    {
     "name": "stdout",
     "output_type": "stream",
     "text": [
      "<class 'pandas.core.frame.DataFrame'>\n",
      "RangeIndex: 205 entries, 0 to 204\n",
      "Data columns (total 14 columns):\n",
      "normalized-losses    164 non-null object\n",
      "wheel-base           205 non-null float64\n",
      "length               205 non-null float64\n",
      "width                205 non-null float64\n",
      "height               205 non-null float64\n",
      "curb-weight          205 non-null int64\n",
      "bore                 201 non-null object\n",
      "stroke               201 non-null object\n",
      "compression-rate     205 non-null float64\n",
      "horsepower           203 non-null object\n",
      "peak-rpm             203 non-null object\n",
      "city-mpg             205 non-null int64\n",
      "highway-mpg          205 non-null int64\n",
      "price                201 non-null object\n",
      "dtypes: float64(5), int64(3), object(6)\n",
      "memory usage: 22.5+ KB\n",
      "None\n",
      "normalized-losses    41\n",
      "wheel-base            0\n",
      "length                0\n",
      "width                 0\n",
      "height                0\n",
      "curb-weight           0\n",
      "bore                  4\n",
      "stroke                4\n",
      "compression-rate      0\n",
      "horsepower            2\n",
      "peak-rpm              2\n",
      "city-mpg              0\n",
      "highway-mpg           0\n",
      "price                 4\n",
      "dtype: int64\n"
     ]
    }
   ],
   "source": [
    "cars_new = cars[['normalized-losses', 'wheel-base', 'length', 'width', 'height', 'curb-weight', 'bore', 'stroke', 'compression-rate', 'horsepower', 'peak-rpm', 'city-mpg', 'highway-mpg', 'price']]\n",
    "print(cars_new.info())\n",
    "print(cars_new.isnull().sum())"
   ]
  },
  {
   "cell_type": "markdown",
   "metadata": {},
   "source": [
    "We know that KNN will throw an error if we do not omit any missing data, we need to either remove rows with missing data or fill them in with some educated guesses e.g. mean of the column. \n",
    "\n",
    "While we can just omit row with missing data for bore, stroke, horsepower, peak-rpm, and price, we will have to fill in the numbers for normalized losses as the number of rows are significant."
   ]
  },
  {
   "cell_type": "code",
   "execution_count": 120,
   "metadata": {
    "collapsed": false
   },
   "outputs": [
    {
     "name": "stdout",
     "output_type": "stream",
     "text": [
      "<class 'pandas.core.frame.DataFrame'>\n",
      "RangeIndex: 205 entries, 0 to 204\n",
      "Data columns (total 14 columns):\n",
      "normalized-losses    164 non-null float64\n",
      "wheel-base           205 non-null float64\n",
      "length               205 non-null float64\n",
      "width                205 non-null float64\n",
      "height               205 non-null float64\n",
      "curb-weight          205 non-null float64\n",
      "bore                 201 non-null float64\n",
      "stroke               201 non-null float64\n",
      "compression-rate     205 non-null float64\n",
      "horsepower           203 non-null float64\n",
      "peak-rpm             203 non-null float64\n",
      "city-mpg             205 non-null float64\n",
      "highway-mpg          205 non-null float64\n",
      "price                201 non-null float64\n",
      "dtypes: float64(14)\n",
      "memory usage: 22.5 KB\n",
      "None\n",
      "normalized-losses    41\n",
      "wheel-base            0\n",
      "length                0\n",
      "width                 0\n",
      "height                0\n",
      "curb-weight           0\n",
      "bore                  4\n",
      "stroke                4\n",
      "compression-rate      0\n",
      "horsepower            2\n",
      "peak-rpm              2\n",
      "city-mpg              0\n",
      "highway-mpg           0\n",
      "price                 4\n",
      "dtype: int64\n"
     ]
    }
   ],
   "source": [
    "cars_new = cars_new.astype(dtype=\"float64\")\n",
    "print(cars_new.info())\n",
    "print(cars_new.isnull().sum())"
   ]
  },
  {
   "cell_type": "code",
   "execution_count": 121,
   "metadata": {
    "collapsed": false,
    "scrolled": true
   },
   "outputs": [
    {
     "name": "stdout",
     "output_type": "stream",
     "text": [
      "0      122.0\n",
      "1      122.0\n",
      "2      122.0\n",
      "3      164.0\n",
      "4      164.0\n",
      "5      122.0\n",
      "6      158.0\n",
      "7      122.0\n",
      "8      158.0\n",
      "9      122.0\n",
      "10     192.0\n",
      "11     192.0\n",
      "12     188.0\n",
      "13     188.0\n",
      "14     122.0\n",
      "15     122.0\n",
      "16     122.0\n",
      "17     122.0\n",
      "18     121.0\n",
      "19      98.0\n",
      "20      81.0\n",
      "21     118.0\n",
      "22     118.0\n",
      "23     118.0\n",
      "24     148.0\n",
      "25     148.0\n",
      "26     148.0\n",
      "27     148.0\n",
      "28     110.0\n",
      "29     145.0\n",
      "       ...  \n",
      "175     65.0\n",
      "176     65.0\n",
      "177     65.0\n",
      "178    197.0\n",
      "179    197.0\n",
      "180     90.0\n",
      "181    122.0\n",
      "182    122.0\n",
      "183    122.0\n",
      "184     94.0\n",
      "185     94.0\n",
      "186     94.0\n",
      "187     94.0\n",
      "188     94.0\n",
      "189    122.0\n",
      "190    256.0\n",
      "191    122.0\n",
      "192    122.0\n",
      "193    122.0\n",
      "194    103.0\n",
      "195     74.0\n",
      "196    103.0\n",
      "197     74.0\n",
      "198    103.0\n",
      "199     74.0\n",
      "200     95.0\n",
      "201     95.0\n",
      "202     95.0\n",
      "203     95.0\n",
      "204     95.0\n",
      "Name: normalized-losses, dtype: float64\n"
     ]
    }
   ],
   "source": [
    "cars_new = cars_new.astype(dtype=\"float64\")\n",
    "norm_loss_mean = np.mean(cars_new[cars_new[\"normalized-losses\"].notnull()][\"normalized-losses\"])  \n",
    "\n",
    "for i,row in cars_new.iterrows():\n",
    "    if np.isnan(row[\"normalized-losses\"]):\n",
    "        row[\"normalized-losses\"] = norm_loss_mean\n",
    "\n",
    "print(cars_new[\"normalized-losses\"])                      "
   ]
  },
  {
   "cell_type": "markdown",
   "metadata": {
    "collapsed": true
   },
   "source": [
    "To normalise all our numeric values to be between 0 and 1, we can find the z-score for all column values."
   ]
  },
  {
   "cell_type": "code",
   "execution_count": 122,
   "metadata": {
    "collapsed": false
   },
   "outputs": [
    {
     "name": "stdout",
     "output_type": "stream",
     "text": [
      "   normalized-losses  wheel-base    length     width    height  curb-weight  \\\n",
      "0           0.298429    0.058309  0.413433  0.316667  0.083333     0.411171   \n",
      "1           0.298429    0.058309  0.413433  0.316667  0.083333     0.411171   \n",
      "\n",
      "       bore    stroke  compression-rate  horsepower  peak-rpm  city-mpg  \\\n",
      "0  0.664286  0.290476             0.125      0.2625  0.346939  0.222222   \n",
      "1  0.664286  0.290476             0.125      0.2625  0.346939  0.222222   \n",
      "\n",
      "   highway-mpg    price  \n",
      "0     0.289474  13495.0  \n",
      "1     0.289474  16500.0  \n"
     ]
    }
   ],
   "source": [
    "cars_normalised = (cars_new - cars_new.min()) / (cars_new.max() - cars_new.min())\n",
    "cars_normalised = cars_normalised.drop(\"price\",axis=1)\n",
    "cars_normalised[\"price\"] = cars_new[\"price\"]\n",
    "cars_normalised = cars_normalised.dropna() \n",
    "print(cars_normalised.head(2))"
   ]
  },
  {
   "cell_type": "markdown",
   "metadata": {},
   "source": [
    "## K-Nearest Neigbor Function"
   ]
  },
  {
   "cell_type": "code",
   "execution_count": 127,
   "metadata": {
    "collapsed": false
   },
   "outputs": [
    {
     "data": {
      "text/plain": [
       "highway-mpg          4409.808046\n",
       "city-mpg             4437.412782\n",
       "horsepower           4568.145411\n",
       "curb-weight          4594.668401\n",
       "width                4941.109798\n",
       "length               5210.375156\n",
       "wheel-base           5692.794469\n",
       "compression-rate     7020.882648\n",
       "bore                 7076.775614\n",
       "stroke               7217.395544\n",
       "peak-rpm             7313.971818\n",
       "height               7574.683028\n",
       "normalized-losses    7726.404961\n",
       "dtype: float64"
      ]
     },
     "execution_count": 127,
     "metadata": {},
     "output_type": "execute_result"
    }
   ],
   "source": [
    "from sklearn.neighbors import KNeighborsRegressor\n",
    "from sklearn.metrics import mean_squared_error\n",
    "\n",
    "def knn_train_test(training_col,target_col,df,k):\n",
    "    \n",
    "    np.random.seed(1)\n",
    "    index = np.random.permutation(df.index)\n",
    "    cars_shuffled = df.reindex(index)\n",
    "    \n",
    "    half = int(len(cars_shuffled)/2)\n",
    "    training_set = cars_shuffled[0:half]\n",
    "    test_set = cars_shuffled[half:]\n",
    "    \n",
    "    knn = KNeighborsRegressor(n_neighbors=k)\n",
    "    knn.fit(training_set[[training_col]],training_set[target_col])\n",
    "    actual = test_set[target_col]\n",
    "    prediction = knn.predict(test_set[[training_col]])\n",
    "    mse = mean_squared_error(actual,prediction)\n",
    "    return np.sqrt(mse)\n",
    "\n",
    "numeric_cols = ['normalized-losses', 'wheel-base', 'length', 'width', 'height', 'curb-weight', 'bore', 'stroke', 'compression-rate', 'horsepower', 'peak-rpm', 'city-mpg', 'highway-mpg']\n",
    "\n",
    "rmses = {}\n",
    "for i in numeric_cols:\n",
    "    result = knn_train_test(i,\"price\",cars_normalised,5)\n",
    "    rmses[i] = result\n",
    "\n",
    "rmses_series = pd.Series(rmses)\n",
    "rmses_series.sort_values()\n",
    "    "
   ]
  },
  {
   "cell_type": "code",
   "execution_count": 134,
   "metadata": {
    "collapsed": false
   },
   "outputs": [
    {
     "name": "stdout",
     "output_type": "stream",
     "text": [
      "{'normalized-losses': {1: 7676.0580511146236, 3: 8218.2274928792613, 9: 7382.2205706372624, 5: 7726.4049614134974, 7: 7611.9648842053712}, 'width': {1: 6247.1396099432941, 3: 5418.8405320712418, 9: 4465.4104928172692, 5: 4941.1097982918282, 7: 4518.999877075079}, 'curb-weight': {1: 6739.4325375784738, 3: 5187.9040393973619, 9: 4175.9670956619611, 5: 4594.6684014391803, 7: 4125.2882939403898}, 'length': {1: 5294.1220746046574, 3: 5152.0756584800802, 9: 5345.1776009468467, 5: 5210.3751558299327, 7: 5380.4060898012467}, 'wheel-base': {1: 5718.710483302747, 3: 5718.484995916845, 9: 5840.7985926626843, 5: 5692.7944690581253, 7: 5725.9061251817602}, 'highway-mpg': {1: 5591.2869160463424, 3: 4674.1029962686844, 9: 4234.824050221162, 5: 4409.8080459404146, 7: 4269.119331662173}, 'bore': {1: 9782.2410556798568, 3: 6987.8411884541774, 9: 7654.9526899871207, 5: 7076.7756136620901, 7: 7604.1323167957144}, 'height': {1: 9144.6891295172081, 3: 8163.5394698462114, 9: 7609.841226601191, 5: 7574.6830280553786, 7: 7909.8106582861728}, 'compression-rate': {1: 7083.6604209394218, 3: 6717.9716151019275, 9: 7206.3550439456103, 5: 7020.8826475169117, 7: 6879.3833590421746}, 'city-mpg': {1: 5622.6078205830463, 3: 4206.8083274443197, 9: 4520.1089040987799, 5: 4437.4127823794452, 7: 4599.8310169421611}, 'peak-rpm': {1: 6920.3380203806901, 3: 7140.7012685433046, 9: 7239.1115350891178, 5: 7313.971817929666, 7: 7285.0908854371582}, 'horsepower': {1: 4343.2390057679868, 3: 4547.4118233763711, 9: 4755.5034178563719, 5: 4568.1454111653475, 7: 4785.0061971264931}, 'stroke': {1: 7395.4190412659082, 3: 7098.7138489675581, 9: 7436.2959662324429, 5: 7217.3955437893374, 7: 7620.3696670130475}}\n"
     ]
    }
   ],
   "source": [
    "import matplotlib.pyplot as plt\n",
    "import collections\n",
    "%matplotlib inline\n",
    "\n",
    "k_vals = [1,3,5,7,9]\n",
    "rmses_first = {}\n",
    "\n",
    "\n",
    "def train_col(col,k_vals):\n",
    "    for k in k_vals:\n",
    "        result = knn_train_test(col,\"price\",cars_normalised,k)\n",
    "        if col in rmses_first:\n",
    "            rmses_first[col][k] = result\n",
    "        else:\n",
    "            rmses_first[col] = {}\n",
    "            rmses_first[col][k] = result\n",
    "    return rmses_first\n",
    "\n",
    "for i in numeric_cols:\n",
    "    train_col(i,k_vals)\n",
    "    \n",
    "print(rmses_first)\n",
    "    "
   ]
  },
  {
   "cell_type": "code",
   "execution_count": null,
   "metadata": {
    "collapsed": true
   },
   "outputs": [],
   "source": []
  }
 ],
 "metadata": {
  "kernelspec": {
   "display_name": "Python 3",
   "language": "python",
   "name": "python3"
  },
  "language_info": {
   "codemirror_mode": {
    "name": "ipython",
    "version": 3
   },
   "file_extension": ".py",
   "mimetype": "text/x-python",
   "name": "python",
   "nbconvert_exporter": "python",
   "pygments_lexer": "ipython3",
   "version": "3.4.3"
  }
 },
 "nbformat": 4,
 "nbformat_minor": 2
}
