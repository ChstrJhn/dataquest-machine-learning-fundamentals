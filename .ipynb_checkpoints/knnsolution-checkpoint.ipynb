{
 "cells": [
  {
   "cell_type": "markdown",
   "metadata": {
    "collapsed": true
   },
   "source": [
    "# Machine Learning Fundamentals: Predicting Car Prices\n",
    "In this project, I'll be practicing the machine learning workflow to predict a car's market price using its attributes. The data set we will be working with contains information on various cars. For each car we have information about the technical aspects of the vehicle such as the motor's displacement, the weight of the car, the miles per gallon, how fast the car accelerates, and more. You can read more about the data set [here](https://archive.ics.uci.edu/ml/datasets/automobile) and can download it directly from [here](https://archive.ics.uci.edu/ml/machine-learning-databases/autos/imports-85.data). "
   ]
  },
  {
   "cell_type": "code",
   "execution_count": 3,
   "metadata": {},
   "outputs": [
    {
     "name": "stdout",
     "output_type": "stream",
     "text": [
      "Index(['3', '?', 'alfa-romero', 'gas', 'std', 'two', 'convertible', 'rwd',\n",
      "       'front', '88.60', '168.80', '64.10', '48.80', '2548', 'dohc', 'four',\n",
      "       '130', 'mpfi', '3.47', '2.68', '9.00', '111', '5000', '21', '27',\n",
      "       '13495'],\n",
      "      dtype='object')\n"
     ]
    }
   ],
   "source": [
    "import pandas as pd\n",
    "import numpy as np\n",
    "cars = pd.read_csv(\"/Users/chesterjohn/Desktop/dataquest/jupyter-1-ml-fundamentals/imports-85.data\")\n",
    "print(cars.columns)"
   ]
  },
  {
   "cell_type": "markdown",
   "metadata": {},
   "source": [
    "## Cleaning Data"
   ]
  },
  {
   "cell_type": "markdown",
   "metadata": {},
   "source": [
    "Looks like our data do not contain headers names, so we have to manually add them."
   ]
  },
  {
   "cell_type": "code",
   "execution_count": 4,
   "metadata": {},
   "outputs": [
    {
     "name": "stdout",
     "output_type": "stream",
     "text": [
      "   symboling normalized-losses         make fuel-type aspiration num-of-doors  \\\n",
      "0          3                 ?  alfa-romero       gas        std          two   \n",
      "1          3                 ?  alfa-romero       gas        std          two   \n",
      "\n",
      "    body-style drive-wheels engine-location  wheel-base  ...    engine-size  \\\n",
      "0  convertible          rwd           front        88.6  ...            130   \n",
      "1  convertible          rwd           front        88.6  ...            130   \n",
      "\n",
      "   fuel-system  bore  stroke compression-rate horsepower  peak-rpm city-mpg  \\\n",
      "0         mpfi  3.47    2.68              9.0        111      5000       21   \n",
      "1         mpfi  3.47    2.68              9.0        111      5000       21   \n",
      "\n",
      "  highway-mpg  price  \n",
      "0          27  13495  \n",
      "1          27  16500  \n",
      "\n",
      "[2 rows x 26 columns]\n"
     ]
    }
   ],
   "source": [
    "col_names = ['symboling', 'normalized-losses', 'make', 'fuel-type', 'aspiration', 'num-of-doors', 'body-style', \n",
    "        'drive-wheels', 'engine-location', 'wheel-base', 'length', 'width', 'height', 'curb-weight', 'engine-type', \n",
    "        'num-of-cylinders', 'engine-size', 'fuel-system', 'bore', 'stroke', 'compression-rate', 'horsepower', 'peak-rpm', 'city-mpg', 'highway-mpg', 'price']\n",
    "cars = pd.read_csv(\"/Users/chesterjohn/Desktop/dataquest/jupyter-1-ml-fundamentals/imports-85.data\",names=col_names)\n",
    "print(cars.head(2))"
   ]
  },
  {
   "cell_type": "code",
   "execution_count": 5,
   "metadata": {},
   "outputs": [
    {
     "name": "stdout",
     "output_type": "stream",
     "text": [
      "0      NaN\n",
      "1      NaN\n",
      "2      NaN\n",
      "3      164\n",
      "4      164\n",
      "5      NaN\n",
      "6      158\n",
      "7      NaN\n",
      "8      158\n",
      "9      NaN\n",
      "10     192\n",
      "11     192\n",
      "12     188\n",
      "13     188\n",
      "14     NaN\n",
      "15     NaN\n",
      "16     NaN\n",
      "17     NaN\n",
      "18     121\n",
      "19      98\n",
      "20      81\n",
      "21     118\n",
      "22     118\n",
      "23     118\n",
      "24     148\n",
      "25     148\n",
      "26     148\n",
      "27     148\n",
      "28     110\n",
      "29     145\n",
      "      ... \n",
      "175     65\n",
      "176     65\n",
      "177     65\n",
      "178    197\n",
      "179    197\n",
      "180     90\n",
      "181    NaN\n",
      "182    122\n",
      "183    122\n",
      "184     94\n",
      "185     94\n",
      "186     94\n",
      "187     94\n",
      "188     94\n",
      "189    NaN\n",
      "190    256\n",
      "191    NaN\n",
      "192    NaN\n",
      "193    NaN\n",
      "194    103\n",
      "195     74\n",
      "196    103\n",
      "197     74\n",
      "198    103\n",
      "199     74\n",
      "200     95\n",
      "201     95\n",
      "202     95\n",
      "203     95\n",
      "204     95\n",
      "Name: normalized-losses, Length: 205, dtype: object\n"
     ]
    }
   ],
   "source": [
    "cars = cars.replace(to_replace=\"?\",value=np.nan)\n",
    "print(cars[\"normalized-losses\"])"
   ]
  },
  {
   "cell_type": "markdown",
   "metadata": {},
   "source": [
    "Because we will be calculating Euclidean distance for K-nearest neighbor (KNN), we will have to use only continuous variables, omitting any categorical variables."
   ]
  },
  {
   "cell_type": "code",
   "execution_count": 6,
   "metadata": {},
   "outputs": [
    {
     "name": "stdout",
     "output_type": "stream",
     "text": [
      "<class 'pandas.core.frame.DataFrame'>\n",
      "RangeIndex: 205 entries, 0 to 204\n",
      "Data columns (total 14 columns):\n",
      "normalized-losses    164 non-null object\n",
      "wheel-base           205 non-null float64\n",
      "length               205 non-null float64\n",
      "width                205 non-null float64\n",
      "height               205 non-null float64\n",
      "curb-weight          205 non-null int64\n",
      "bore                 201 non-null object\n",
      "stroke               201 non-null object\n",
      "compression-rate     205 non-null float64\n",
      "horsepower           203 non-null object\n",
      "peak-rpm             203 non-null object\n",
      "city-mpg             205 non-null int64\n",
      "highway-mpg          205 non-null int64\n",
      "price                201 non-null object\n",
      "dtypes: float64(5), int64(3), object(6)\n",
      "memory usage: 22.5+ KB\n",
      "None\n",
      "normalized-losses    41\n",
      "wheel-base            0\n",
      "length                0\n",
      "width                 0\n",
      "height                0\n",
      "curb-weight           0\n",
      "bore                  4\n",
      "stroke                4\n",
      "compression-rate      0\n",
      "horsepower            2\n",
      "peak-rpm              2\n",
      "city-mpg              0\n",
      "highway-mpg           0\n",
      "price                 4\n",
      "dtype: int64\n"
     ]
    }
   ],
   "source": [
    "cars_new = cars[['normalized-losses', 'wheel-base', 'length', 'width', 'height', 'curb-weight', 'bore', 'stroke', 'compression-rate', 'horsepower', 'peak-rpm', 'city-mpg', 'highway-mpg', 'price']]\n",
    "print(cars_new.info())\n",
    "print(cars_new.isnull().sum())"
   ]
  },
  {
   "cell_type": "markdown",
   "metadata": {},
   "source": [
    "We know that KNN will throw an error if we do not omit any missing data, we need to either remove rows with missing data or fill them in with some educated guesses e.g. mean of the column. \n",
    "\n",
    "While we can just omit row with missing data for bore, stroke, horsepower, peak-rpm, and price, we will have to fill in the numbers for normalized losses as the number of rows are significant."
   ]
  },
  {
   "cell_type": "code",
   "execution_count": 7,
   "metadata": {},
   "outputs": [
    {
     "name": "stdout",
     "output_type": "stream",
     "text": [
      "<class 'pandas.core.frame.DataFrame'>\n",
      "RangeIndex: 205 entries, 0 to 204\n",
      "Data columns (total 14 columns):\n",
      "normalized-losses    164 non-null float64\n",
      "wheel-base           205 non-null float64\n",
      "length               205 non-null float64\n",
      "width                205 non-null float64\n",
      "height               205 non-null float64\n",
      "curb-weight          205 non-null float64\n",
      "bore                 201 non-null float64\n",
      "stroke               201 non-null float64\n",
      "compression-rate     205 non-null float64\n",
      "horsepower           203 non-null float64\n",
      "peak-rpm             203 non-null float64\n",
      "city-mpg             205 non-null float64\n",
      "highway-mpg          205 non-null float64\n",
      "price                201 non-null float64\n",
      "dtypes: float64(14)\n",
      "memory usage: 22.5 KB\n",
      "None\n",
      "normalized-losses    41\n",
      "wheel-base            0\n",
      "length                0\n",
      "width                 0\n",
      "height                0\n",
      "curb-weight           0\n",
      "bore                  4\n",
      "stroke                4\n",
      "compression-rate      0\n",
      "horsepower            2\n",
      "peak-rpm              2\n",
      "city-mpg              0\n",
      "highway-mpg           0\n",
      "price                 4\n",
      "dtype: int64\n"
     ]
    }
   ],
   "source": [
    "cars_new = cars_new.astype(dtype=\"float64\")\n",
    "print(cars_new.info())\n",
    "print(cars_new.isnull().sum())"
   ]
  },
  {
   "cell_type": "code",
   "execution_count": 8,
   "metadata": {
    "scrolled": true
   },
   "outputs": [
    {
     "name": "stdout",
     "output_type": "stream",
     "text": [
      "0      122.0\n",
      "1      122.0\n",
      "2      122.0\n",
      "3      164.0\n",
      "4      164.0\n",
      "5      122.0\n",
      "6      158.0\n",
      "7      122.0\n",
      "8      158.0\n",
      "9      122.0\n",
      "10     192.0\n",
      "11     192.0\n",
      "12     188.0\n",
      "13     188.0\n",
      "14     122.0\n",
      "15     122.0\n",
      "16     122.0\n",
      "17     122.0\n",
      "18     121.0\n",
      "19      98.0\n",
      "20      81.0\n",
      "21     118.0\n",
      "22     118.0\n",
      "23     118.0\n",
      "24     148.0\n",
      "25     148.0\n",
      "26     148.0\n",
      "27     148.0\n",
      "28     110.0\n",
      "29     145.0\n",
      "       ...  \n",
      "175     65.0\n",
      "176     65.0\n",
      "177     65.0\n",
      "178    197.0\n",
      "179    197.0\n",
      "180     90.0\n",
      "181    122.0\n",
      "182    122.0\n",
      "183    122.0\n",
      "184     94.0\n",
      "185     94.0\n",
      "186     94.0\n",
      "187     94.0\n",
      "188     94.0\n",
      "189    122.0\n",
      "190    256.0\n",
      "191    122.0\n",
      "192    122.0\n",
      "193    122.0\n",
      "194    103.0\n",
      "195     74.0\n",
      "196    103.0\n",
      "197     74.0\n",
      "198    103.0\n",
      "199     74.0\n",
      "200     95.0\n",
      "201     95.0\n",
      "202     95.0\n",
      "203     95.0\n",
      "204     95.0\n",
      "Name: normalized-losses, Length: 205, dtype: float64\n"
     ]
    }
   ],
   "source": [
    "cars_new = cars_new.astype(dtype=\"float64\")\n",
    "norm_loss_mean = np.mean(cars_new[cars_new[\"normalized-losses\"].notnull()][\"normalized-losses\"])  \n",
    "\n",
    "for i,row in cars_new.iterrows():\n",
    "    if np.isnan(row[\"normalized-losses\"]):\n",
    "        row[\"normalized-losses\"] = norm_loss_mean\n",
    "\n",
    "print(cars_new[\"normalized-losses\"])                      "
   ]
  },
  {
   "cell_type": "markdown",
   "metadata": {
    "collapsed": true
   },
   "source": [
    "To normalise all our numeric values to be between 0 and 1, we can find the z-score for all column values."
   ]
  },
  {
   "cell_type": "code",
   "execution_count": 9,
   "metadata": {},
   "outputs": [
    {
     "name": "stdout",
     "output_type": "stream",
     "text": [
      "   normalized-losses  wheel-base    length     width    height  curb-weight  \\\n",
      "0           0.298429    0.058309  0.413433  0.316667  0.083333     0.411171   \n",
      "1           0.298429    0.058309  0.413433  0.316667  0.083333     0.411171   \n",
      "\n",
      "       bore    stroke  compression-rate  horsepower  peak-rpm  city-mpg  \\\n",
      "0  0.664286  0.290476             0.125      0.2625  0.346939  0.222222   \n",
      "1  0.664286  0.290476             0.125      0.2625  0.346939  0.222222   \n",
      "\n",
      "   highway-mpg    price  \n",
      "0     0.289474  13495.0  \n",
      "1     0.289474  16500.0  \n"
     ]
    }
   ],
   "source": [
    "cars_normalised = (cars_new - cars_new.min()) / (cars_new.max() - cars_new.min())\n",
    "cars_normalised = cars_normalised.drop(\"price\",axis=1)\n",
    "cars_normalised[\"price\"] = cars_new[\"price\"]\n",
    "cars_normalised = cars_normalised.dropna() \n",
    "print(cars_normalised.head(2))"
   ]
  },
  {
   "cell_type": "markdown",
   "metadata": {},
   "source": [
    "## K-Nearest Neigbor Function: Univariate & Multivariate\n",
    "I start with a univariate knn function, where:\n",
    "- take our data, we randomise, and split it into two parts (training and test set)\n",
    "- We use a single attribute from our training set and train it on the set's target attribute\n",
    "- We then use the same attribute, but now from our test set to predict the target attribute.\n",
    "- Finally, we calculate our Root Mean Squared Error to see how far-off my predictions are."
   ]
  },
  {
   "cell_type": "code",
   "execution_count": 10,
   "metadata": {},
   "outputs": [
    {
     "data": {
      "text/plain": [
       "highway-mpg          4409.808046\n",
       "city-mpg             4437.412782\n",
       "horsepower           4568.145411\n",
       "curb-weight          4594.668401\n",
       "width                4941.109798\n",
       "length               5210.375156\n",
       "wheel-base           5692.794469\n",
       "compression-rate     7020.882648\n",
       "bore                 7076.775614\n",
       "stroke               7217.395544\n",
       "peak-rpm             7313.971818\n",
       "height               7574.683028\n",
       "normalized-losses    7726.404961\n",
       "dtype: float64"
      ]
     },
     "execution_count": 10,
     "metadata": {},
     "output_type": "execute_result"
    }
   ],
   "source": [
    "from sklearn.neighbors import KNeighborsRegressor\n",
    "from sklearn.metrics import mean_squared_error\n",
    "\n",
    "def knn_train_test(training_col,target_col,df,k):\n",
    "    \n",
    "    np.random.seed(1)\n",
    "    index = np.random.permutation(df.index)\n",
    "    cars_shuffled = df.reindex(index)\n",
    "    \n",
    "    half = int(len(cars_shuffled)/2)\n",
    "    training_set = cars_shuffled[0:half]\n",
    "    test_set = cars_shuffled[half:]\n",
    "    \n",
    "    knn = KNeighborsRegressor(n_neighbors=k)\n",
    "    knn.fit(training_set[[training_col]],training_set[target_col])\n",
    "    actual = test_set[target_col]\n",
    "    prediction = knn.predict(test_set[[training_col]])\n",
    "    mse = mean_squared_error(actual,prediction)\n",
    "    return np.sqrt(mse)\n",
    "\n",
    "numeric_cols = ['normalized-losses', 'wheel-base', 'length', 'width', 'height', 'curb-weight', 'bore', 'stroke', 'compression-rate', 'horsepower', 'peak-rpm', 'city-mpg', 'highway-mpg']\n",
    "\n",
    "rmses = {}\n",
    "for i in numeric_cols:\n",
    "    result = knn_train_test(i,\"price\",cars_normalised,5)\n",
    "    rmses[i] = result\n",
    "\n",
    "rmses_series = pd.Series(rmses)\n",
    "rmses_series.sort_values()\n",
    "    "
   ]
  },
  {
   "cell_type": "code",
   "execution_count": 11,
   "metadata": {},
   "outputs": [
    {
     "name": "stdout",
     "output_type": "stream",
     "text": [
      "{'normalized-losses': {1: 7676.0580511146236, 3: 8218.2274928792613, 5: 7726.4049614134974, 7: 7611.9648842053712, 9: 7382.2205706372624}, 'wheel-base': {1: 5718.710483302747, 3: 5718.484995916845, 5: 5692.7944690581253, 7: 5725.9061251817602, 9: 5840.7985926626843}, 'length': {1: 5294.1220746046574, 3: 5152.0756584800802, 5: 5210.3751558299327, 7: 5380.4060898012467, 9: 5345.1776009468467}, 'width': {1: 6247.1396099432941, 3: 5418.8405320712418, 5: 4941.1097982918282, 7: 4518.999877075079, 9: 4465.4104928172692}, 'height': {1: 9144.6891295172081, 3: 8163.5394698462114, 5: 7574.6830280553786, 7: 7909.8106582861728, 9: 7609.841226601191}, 'curb-weight': {1: 6739.4325375784738, 3: 5187.9040393973619, 5: 4594.6684014391803, 7: 4125.2882939403898, 9: 4175.9670956619611}, 'bore': {1: 9782.2410556798568, 3: 6987.8411884541774, 5: 7076.7756136620901, 7: 7604.1323167957144, 9: 7654.9526899871207}, 'stroke': {1: 7395.4190412659082, 3: 7098.7138489675581, 5: 7217.3955437893374, 7: 7620.3696670130475, 9: 7436.2959662324429}, 'compression-rate': {1: 7083.6604209394218, 3: 6717.9716151019275, 5: 7020.8826475169117, 7: 6879.3833590421746, 9: 7206.3550439456103}, 'horsepower': {1: 4343.2390057679868, 3: 4547.4118233763711, 5: 4568.1454111653475, 7: 4785.0061971264931, 9: 4755.5034178563719}, 'peak-rpm': {1: 6920.3380203806901, 3: 7140.7012685433046, 5: 7313.971817929666, 7: 7285.0908854371582, 9: 7239.1115350891178}, 'city-mpg': {1: 5622.6078205830463, 3: 4206.8083274443197, 5: 4437.4127823794452, 7: 4599.8310169421611, 9: 4520.1089040987799}, 'highway-mpg': {1: 5591.2869160463424, 3: 4674.1029962686844, 5: 4409.8080459404146, 7: 4269.119331662173, 9: 4234.824050221162}}\n"
     ]
    }
   ],
   "source": [
    "import matplotlib.pyplot as plt\n",
    "import collections\n",
    "%matplotlib inline\n",
    "\n",
    "k_vals = [1,3,5,7,9]\n",
    "rmses_first = {}\n",
    "\n",
    "\n",
    "def train_col(col,k_vals):\n",
    "    for k in k_vals:\n",
    "        result = knn_train_test(col,\"price\",cars_normalised,k)\n",
    "        if col in rmses_first:\n",
    "            rmses_first[col][k] = result\n",
    "        else:\n",
    "            rmses_first[col] = {}\n",
    "            rmses_first[col][k] = result\n",
    "    return rmses_first\n",
    "\n",
    "for i in numeric_cols:\n",
    "    train_col(i,k_vals)\n",
    "    \n",
    "print(rmses_first)\n",
    "    "
   ]
  },
  {
   "cell_type": "code",
   "execution_count": 12,
   "metadata": {},
   "outputs": [
    {
     "data": {
      "image/png": "[encoded data removed]",
      "text/plain": [
       "<matplotlib.figure.Figure at 0x109151208>"
      ]
     },
     "metadata": {},
     "output_type": "display_data"
    }
   ],
   "source": [
    "for i in numeric_cols:\n",
    "    rmses_first[i] = collections.OrderedDict(sorted(rmses_first[i].items()))\n",
    "    \n",
    "for k,v in rmses_first.items():\n",
    "    x_axis = list(v.keys())\n",
    "    y_axis = list(v.values())\n",
    "    \n",
    "    plt.plot(x_axis,y_axis)\n",
    "    plt.xlabel('K Values')\n",
    "    plt.ylabel('RMSE')"
   ]
  },
  {
   "cell_type": "markdown",
   "metadata": {},
   "source": [
    "Next, with our data above, we want to see which attributes have the lowest average RMSE so we can group together the best attributes for a more robust model i.e. Multivariate model."
   ]
  },
  {
   "cell_type": "code",
   "execution_count": 13,
   "metadata": {},
   "outputs": [
    {
     "data": {
      "text/plain": [
       "horsepower           4599.861171\n",
       "highway-mpg          4635.828268\n",
       "city-mpg             4677.353770\n",
       "curb-weight          4964.652074\n",
       "width                5118.300062\n",
       "length               5276.431316\n",
       "wheel-base           5739.338933\n",
       "compression-rate     6981.650617\n",
       "peak-rpm             7179.842705\n",
       "stroke               7353.638813\n",
       "normalized-losses    7722.975192\n",
       "bore                 7821.188573\n",
       "height               8080.512702\n",
       "dtype: float64"
      ]
     },
     "execution_count": 13,
     "metadata": {},
     "output_type": "execute_result"
    }
   ],
   "source": [
    "avg_rmses = {}\n",
    "\n",
    "for k,v in rmses_first.items():\n",
    "    mean = np.mean(list(v.values()))\n",
    "    avg_rmses[k] = mean\n",
    "    \n",
    "avg_rmses = pd.Series(avg_rmses)\n",
    "avg_rmses.sort_values()"
   ]
  },
  {
   "cell_type": "markdown",
   "metadata": {},
   "source": [
    "We have now identified the top 5 attributes with the lowest average RMSEs. We can now by experiment with grouping these attributes and running our (modified) knn function."
   ]
  },
  {
   "cell_type": "code",
   "execution_count": 14,
   "metadata": {},
   "outputs": [
    {
     "data": {
      "text/plain": [
       "three best features    3579.578661\n",
       "five best features     3627.442791\n",
       "four best features     3771.989545\n",
       "two best features      3782.582128\n",
       "dtype: float64"
      ]
     },
     "execution_count": 14,
     "metadata": {},
     "output_type": "execute_result"
    }
   ],
   "source": [
    "# our knn function is modified to take a list of training columns instead of a single string\n",
    "def knn_train_test(training_col,target_col,df,k):\n",
    "    \n",
    "    np.random.seed(1)\n",
    "    index = np.random.permutation(df.index)\n",
    "    cars_shuffled = df.reindex(index)\n",
    "    \n",
    "    half = int(len(cars_shuffled)/2)\n",
    "    training_set = cars_shuffled[0:half]\n",
    "    test_set = cars_shuffled[half:]\n",
    "    \n",
    "    knn = KNeighborsRegressor(n_neighbors=k)\n",
    "    knn.fit(training_set[training_col],training_set[target_col])\n",
    "    actual = test_set[target_col]\n",
    "    prediction = knn.predict(test_set[training_col])\n",
    "    mse = mean_squared_error(actual,prediction)\n",
    "    return np.sqrt(mse)\n",
    "\n",
    "k_rmse_results = {}\n",
    "\n",
    "two_best_features = ['horsepower', 'highway-mpg']\n",
    "rmse_val = knn_train_test(two_best_features, 'price', cars_normalised,5)\n",
    "k_rmse_results[\"two best features\"] = rmse_val\n",
    "\n",
    "three_best_features = ['horsepower', 'highway-mpg', 'city-mpg']\n",
    "rmse_val = knn_train_test(three_best_features, 'price', cars_normalised,5)\n",
    "k_rmse_results[\"three best features\"] = rmse_val\n",
    "\n",
    "four_best_features = ['horsepower', 'highway-mpg', 'city-mpg', 'curb-weight']\n",
    "rmse_val = knn_train_test(four_best_features, 'price', cars_normalised,5)\n",
    "k_rmse_results[\"four best features\"] = rmse_val\n",
    "\n",
    "five_best_features = ['horsepower', 'highway-mpg', 'city-mpg', 'curb-weight' , 'width']\n",
    "rmse_val = knn_train_test(five_best_features, 'price', cars_normalised,5)\n",
    "k_rmse_results[\"five best features\"] = rmse_val\n",
    "\n",
    "k_rmse_results = pd.Series(k_rmse_results)\n",
    "k_rmse_results.sort_values()\n"
   ]
  },
  {
   "cell_type": "markdown",
   "metadata": {},
   "source": [
    "After the experiment above, we have concluded that the top 3 models to go forward with is the ones with three, five, or four attributes. Let's re-run our knn function with k-values ranging from 1 to 25 so we can plot a line graph of the resulting RMSE to determine the optimal k-values for each model."
   ]
  },
  {
   "cell_type": "code",
   "execution_count": 15,
   "metadata": {},
   "outputs": [
    {
     "name": "stdout",
     "output_type": "stream",
     "text": [
      "{'three_best_features': {1: 4480.2540368481204, 2: 3432.994324662257, 3: 3601.7040505887226, 4: 3500.0595718326786, 5: 3579.5786605893909, 6: 3829.8651146594266, 7: 3807.01877772742, 8: 3869.8566174313282, 9: 4038.3542368990829, 10: 4214.9876887393739, 11: 4265.0875329059354, 12: 4333.4087783937985, 13: 4441.408666114804, 14: 4470.1191665643692, 15: 4551.5016287343988, 16: 4549.501876265801, 17: 4591.943024159832, 18: 4629.9230776031854, 19: 4669.0455476854168, 20: 4794.7353710069019, 21: 4812.2098389904377, 22: 4813.8517589457306, 23: 4826.4318973449053, 24: 4839.7214887881401, 25: 4796.0628456827772}, 'five_best_features': {1: 3653.8629237159571, 2: 3990.1695759576382, 3: 3721.1288883995448, 4: 3411.3067366898736, 5: 3627.4427905023326, 6: 3797.6949126248169, 7: 3868.8323612751874, 8: 3841.8560541551028, 9: 3826.6523999868373, 10: 3926.789482217383, 11: 4037.9940420593989, 12: 4106.3910777112515, 13: 4103.0268917367212, 14: 4091.4828244576747, 15: 4091.2510839063193, 16: 4178.4031740774262, 17: 4156.6811920415221, 18: 4133.2207414702434, 19: 4172.7089283557925, 20: 4195.4184850098382, 21: 4228.4509807420591, 22: 4247.5950160869215, 23: 4263.0202332348326, 24: 4225.5972412231386, 25: 4183.680181488493}, 'four_best_features': {1: 4170.3381622783427, 2: 3821.307226711609, 3: 3663.2336745897778, 4: 3888.7218306794666, 5: 3771.989544913768, 6: 3836.1886206150639, 7: 3815.4020448230817, 8: 3910.7357429898948, 9: 4021.3912405815668, 10: 4105.8145468546518, 11: 4201.3025423314912, 12: 4289.2279170537331, 13: 4261.6321387884136, 14: 4303.9488459585173, 15: 4331.190417108407, 16: 4327.5958546401416, 17: 4355.4742901926047, 18: 4365.9817836452539, 19: 4399.88994836456, 20: 4400.4883411488245, 21: 4335.4766942718206, 22: 4386.1545835337829, 23: 4395.8360740456174, 24: 4412.216833333754, 25: 4395.5448091996095}}\n"
     ]
    }
   ],
   "source": [
    "k_vals = list(range(1,26))\n",
    "rmses_first = {}\n",
    "\n",
    "def train_col(name,col,k_vals):\n",
    "    for k in k_vals:\n",
    "        result = knn_train_test(col,\"price\",cars_normalised,k)\n",
    "        for c in col:\n",
    "            if name in rmses_first:\n",
    "                rmses_first[name][k] = result\n",
    "            else:\n",
    "                rmses_first[name] = {}\n",
    "                rmses_first[name][k] = result\n",
    "    return rmses_first\n",
    "\n",
    "train_col(\"three_best_features\",three_best_features,k_vals)\n",
    "train_col(\"five_best_features\",five_best_features,k_vals)\n",
    "train_col(\"four_best_features\",four_best_features,k_vals)\n",
    "\n",
    "print(rmses_first)"
   ]
  },
  {
   "cell_type": "code",
   "execution_count": 16,
   "metadata": {},
   "outputs": [
    {
     "data": {
      "text/plain": [
       "<matplotlib.legend.Legend at 0x10b7bb7f0>"
      ]
     },
     "execution_count": 16,
     "metadata": {},
     "output_type": "execute_result"
    },
    {
     "data": {
      "image/png": "[encoded data removed]",
      "text/plain": [
       "<matplotlib.figure.Figure at 0x10b7bb978>"
      ]
     },
     "metadata": {},
     "output_type": "display_data"
    }
   ],
   "source": [
    "fig = plt.figure(figsize=(8, 8))\n",
    "\n",
    "for k,v in rmses_first.items():\n",
    "    x = list(v.keys())\n",
    "    y = list(v.values())\n",
    "    \n",
    "    plt.plot(x,y,label=k)\n",
    "    plt.xlabel('K Values')\n",
    "    plt.ylabel('RMSE')\n",
    "    \n",
    "plt.legend()"
   ]
  },
  {
   "cell_type": "code",
   "execution_count": null,
   "metadata": {
    "collapsed": true
   },
   "outputs": [],
   "source": []
  }
 ],
 "metadata": {
  "kernelspec": {
   "display_name": "Python 3",
   "language": "python",
   "name": "python3"
  },
  "language_info": {
   "codemirror_mode": {
    "name": "ipython",
    "version": 3
   },
   "file_extension": ".py",
   "mimetype": "text/x-python",
   "name": "python",
   "nbconvert_exporter": "python",
   "pygments_lexer": "ipython3",
   "version": "3.6.2"
  }
 },
 "nbformat": 4,
 "nbformat_minor": 2
}
